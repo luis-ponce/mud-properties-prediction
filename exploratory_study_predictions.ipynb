{
 "cells": [
  {
   "cell_type": "code",
   "execution_count": 1,
   "id": "e57ad872-86c3-4eee-9c3a-ad6beca82ee4",
   "metadata": {},
   "outputs": [
    {
     "name": "stdout",
     "output_type": "stream",
     "text": [
      "%pylab is deprecated, use %matplotlib inline and import the required libraries.\n",
      "Populating the interactive namespace from numpy and matplotlib\n"
     ]
    }
   ],
   "source": [
    "import pandas as pd\n",
    "import numpy as np\n",
    "%pylab inline"
   ]
  },
  {
   "cell_type": "code",
   "execution_count": 2,
   "id": "614eaea0-a453-430c-b7d9-7591fd943357",
   "metadata": {},
   "outputs": [
    {
     "data": {
      "text/html": [
       "<div>\n",
       "<style scoped>\n",
       "    .dataframe tbody tr th:only-of-type {\n",
       "        vertical-align: middle;\n",
       "    }\n",
       "\n",
       "    .dataframe tbody tr th {\n",
       "        vertical-align: top;\n",
       "    }\n",
       "\n",
       "    .dataframe thead th {\n",
       "        text-align: right;\n",
       "    }\n",
       "</style>\n",
       "<table border=\"1\" class=\"dataframe\">\n",
       "  <thead>\n",
       "    <tr style=\"text-align: right;\">\n",
       "      <th></th>\n",
       "      <th>DateTime</th>\n",
       "      <th>Hole Depth</th>\n",
       "      <th>Bit Depth</th>\n",
       "      <th>True Vertical Depth</th>\n",
       "      <th>MudWatcher Temperature (Degrees F)</th>\n",
       "      <th>MudAid Temperature (Degrees F)</th>\n",
       "      <th>ES Meter Temperature (Degrees F)</th>\n",
       "      <th>Mud Density</th>\n",
       "      <th>Mud Watcher Density (lb/gal)</th>\n",
       "      <th>MudWatcher Viscosity</th>\n",
       "      <th>...</th>\n",
       "      <th>Hook Load</th>\n",
       "      <th>Standpipe Pressure</th>\n",
       "      <th>Rate Of Penetration</th>\n",
       "      <th>Rotary RPM</th>\n",
       "      <th>Rotary Torque</th>\n",
       "      <th>Azimuth</th>\n",
       "      <th>Inclination</th>\n",
       "      <th>In Slip</th>\n",
       "      <th>Differential Pressure</th>\n",
       "      <th>Rate Of Penetration.1</th>\n",
       "    </tr>\n",
       "  </thead>\n",
       "  <tbody>\n",
       "    <tr>\n",
       "      <th>0</th>\n",
       "      <td>11/20/2020 0:51:10</td>\n",
       "      <td>106.0</td>\n",
       "      <td>8.9</td>\n",
       "      <td>-999.25</td>\n",
       "      <td>0.0</td>\n",
       "      <td>134.6</td>\n",
       "      <td>138.5</td>\n",
       "      <td>8.7</td>\n",
       "      <td>5.17</td>\n",
       "      <td>0.0</td>\n",
       "      <td>...</td>\n",
       "      <td>57.0</td>\n",
       "      <td>146.25</td>\n",
       "      <td>0.0</td>\n",
       "      <td>0.0</td>\n",
       "      <td>0.226</td>\n",
       "      <td>16.51</td>\n",
       "      <td>1.0</td>\n",
       "      <td>0</td>\n",
       "      <td>42.89</td>\n",
       "      <td>0.0</td>\n",
       "    </tr>\n",
       "    <tr>\n",
       "      <th>1</th>\n",
       "      <td>11/20/2020 0:51:20</td>\n",
       "      <td>106.0</td>\n",
       "      <td>100.0</td>\n",
       "      <td>-999.25</td>\n",
       "      <td>0.0</td>\n",
       "      <td>134.6</td>\n",
       "      <td>138.5</td>\n",
       "      <td>8.7</td>\n",
       "      <td>5.17</td>\n",
       "      <td>0.0</td>\n",
       "      <td>...</td>\n",
       "      <td>57.0</td>\n",
       "      <td>147.50</td>\n",
       "      <td>0.0</td>\n",
       "      <td>0.0</td>\n",
       "      <td>0.226</td>\n",
       "      <td>16.51</td>\n",
       "      <td>1.0</td>\n",
       "      <td>0</td>\n",
       "      <td>48.28</td>\n",
       "      <td>0.0</td>\n",
       "    </tr>\n",
       "    <tr>\n",
       "      <th>2</th>\n",
       "      <td>11/20/2020 0:51:30</td>\n",
       "      <td>106.0</td>\n",
       "      <td>100.0</td>\n",
       "      <td>-999.25</td>\n",
       "      <td>0.0</td>\n",
       "      <td>134.6</td>\n",
       "      <td>138.5</td>\n",
       "      <td>8.7</td>\n",
       "      <td>5.17</td>\n",
       "      <td>0.0</td>\n",
       "      <td>...</td>\n",
       "      <td>57.1</td>\n",
       "      <td>152.50</td>\n",
       "      <td>0.0</td>\n",
       "      <td>0.0</td>\n",
       "      <td>0.226</td>\n",
       "      <td>16.51</td>\n",
       "      <td>1.0</td>\n",
       "      <td>0</td>\n",
       "      <td>59.68</td>\n",
       "      <td>0.0</td>\n",
       "    </tr>\n",
       "    <tr>\n",
       "      <th>3</th>\n",
       "      <td>11/20/2020 0:51:40</td>\n",
       "      <td>106.0</td>\n",
       "      <td>100.0</td>\n",
       "      <td>-999.25</td>\n",
       "      <td>0.0</td>\n",
       "      <td>134.6</td>\n",
       "      <td>138.5</td>\n",
       "      <td>8.7</td>\n",
       "      <td>5.17</td>\n",
       "      <td>0.0</td>\n",
       "      <td>...</td>\n",
       "      <td>57.0</td>\n",
       "      <td>170.00</td>\n",
       "      <td>0.0</td>\n",
       "      <td>0.0</td>\n",
       "      <td>0.226</td>\n",
       "      <td>16.51</td>\n",
       "      <td>1.0</td>\n",
       "      <td>0</td>\n",
       "      <td>69.43</td>\n",
       "      <td>0.0</td>\n",
       "    </tr>\n",
       "    <tr>\n",
       "      <th>4</th>\n",
       "      <td>11/20/2020 0:51:50</td>\n",
       "      <td>106.0</td>\n",
       "      <td>100.0</td>\n",
       "      <td>-999.25</td>\n",
       "      <td>0.0</td>\n",
       "      <td>134.6</td>\n",
       "      <td>138.5</td>\n",
       "      <td>8.7</td>\n",
       "      <td>5.17</td>\n",
       "      <td>0.0</td>\n",
       "      <td>...</td>\n",
       "      <td>57.1</td>\n",
       "      <td>168.75</td>\n",
       "      <td>0.0</td>\n",
       "      <td>0.0</td>\n",
       "      <td>0.226</td>\n",
       "      <td>16.51</td>\n",
       "      <td>1.0</td>\n",
       "      <td>0</td>\n",
       "      <td>74.93</td>\n",
       "      <td>0.0</td>\n",
       "    </tr>\n",
       "  </tbody>\n",
       "</table>\n",
       "<p>5 rows × 37 columns</p>\n",
       "</div>"
      ],
      "text/plain": [
       "             DateTime  Hole Depth  Bit Depth  True Vertical Depth  \\\n",
       "0  11/20/2020 0:51:10       106.0        8.9              -999.25   \n",
       "1  11/20/2020 0:51:20       106.0      100.0              -999.25   \n",
       "2  11/20/2020 0:51:30       106.0      100.0              -999.25   \n",
       "3  11/20/2020 0:51:40       106.0      100.0              -999.25   \n",
       "4  11/20/2020 0:51:50       106.0      100.0              -999.25   \n",
       "\n",
       "   MudWatcher Temperature (Degrees F)  MudAid Temperature (Degrees F)  \\\n",
       "0                                 0.0                           134.6   \n",
       "1                                 0.0                           134.6   \n",
       "2                                 0.0                           134.6   \n",
       "3                                 0.0                           134.6   \n",
       "4                                 0.0                           134.6   \n",
       "\n",
       "   ES Meter Temperature (Degrees F)  Mud Density  \\\n",
       "0                             138.5          8.7   \n",
       "1                             138.5          8.7   \n",
       "2                             138.5          8.7   \n",
       "3                             138.5          8.7   \n",
       "4                             138.5          8.7   \n",
       "\n",
       "   Mud Watcher Density (lb/gal)  MudWatcher Viscosity  ...  Hook Load  \\\n",
       "0                          5.17                   0.0  ...       57.0   \n",
       "1                          5.17                   0.0  ...       57.0   \n",
       "2                          5.17                   0.0  ...       57.1   \n",
       "3                          5.17                   0.0  ...       57.0   \n",
       "4                          5.17                   0.0  ...       57.1   \n",
       "\n",
       "   Standpipe Pressure  Rate Of Penetration  Rotary RPM  Rotary Torque  \\\n",
       "0              146.25                  0.0         0.0          0.226   \n",
       "1              147.50                  0.0         0.0          0.226   \n",
       "2              152.50                  0.0         0.0          0.226   \n",
       "3              170.00                  0.0         0.0          0.226   \n",
       "4              168.75                  0.0         0.0          0.226   \n",
       "\n",
       "   Azimuth  Inclination  In Slip  Differential Pressure  Rate Of Penetration.1  \n",
       "0    16.51          1.0        0                  42.89                    0.0  \n",
       "1    16.51          1.0        0                  48.28                    0.0  \n",
       "2    16.51          1.0        0                  59.68                    0.0  \n",
       "3    16.51          1.0        0                  69.43                    0.0  \n",
       "4    16.51          1.0        0                  74.93                    0.0  \n",
       "\n",
       "[5 rows x 37 columns]"
      ]
     },
     "execution_count": 2,
     "metadata": {},
     "output_type": "execute_result"
    }
   ],
   "source": [
    "data = pd.read_csv('BA5.csv')\n",
    "data.head()"
   ]
  },
  {
   "cell_type": "markdown",
   "id": "af464b7d-9a9a-45d9-94a6-43944c4188df",
   "metadata": {},
   "source": [
    "# Predicting mud properties from system parameters"
   ]
  },
  {
   "cell_type": "code",
   "execution_count": 8,
   "id": "9a5f4bc3-c008-43b1-ab09-4e93e62abf08",
   "metadata": {},
   "outputs": [
    {
     "data": {
      "image/png": "[encoded data removed]",
      "text/plain": [
       "<Figure size 360x360 with 1 Axes>"
      ]
     },
     "metadata": {
      "needs_background": "light"
     },
     "output_type": "display_data"
    }
   ],
   "source": [
    "# linear regression doesnt seem to be a good model for this data\n",
    "# magnitudes are not shown in this study\n",
    "\n",
    "from sklearn.linear_model import LinearRegression\n",
    "from sklearn.model_selection import train_test_split\n",
    "\n",
    "\n",
    "X = data.drop(['DateTime','True Vertical Depth','MudWatcher Temperature (Degrees F)', \n",
    "               'MudAid Temperature (Degrees F)',\n",
    "       'ES Meter Temperature (Degrees F)', 'Mud Density',\n",
    "       'Mud Watcher Density (lb/gal)', 'MudWatcher Viscosity',\n",
    "       'ES Meter Voltage', 'MudAid Viscosity @ 600RPM (D.R.)',\n",
    "       'MudAid Viscosity @ 300RPM (D.R.)', 'MudAid Viscosity @ 200RPM (D.R.)',\n",
    "       'MudAid Viscosity @ 100RPM (D.R.)', 'MudAid Viscosity @ 6RPM (D.R.)',\n",
    "       'MudAid Viscosity @ 3RPM (D.R.)', 'PV (API)', 'MudAid PV Value',\n",
    "       'YP (API)', 'MudAid YP Value (100lb/ft2)', 'LSYP (API)',\n",
    "       'MudAid LSYP (100lb/ft2)',], axis = 1)\n",
    "\n",
    "Y = data[['Mud Density']]\n",
    "\n",
    "x_train, x_test, y_train, y_test = train_test_split(X, Y, test_size=0.2)\n",
    "\n",
    "model = LinearRegression()\n",
    "model.fit(x_train, y_train)\n",
    "y_pred = model.predict(x_test)\n",
    "\n",
    "plt.figure(figsize=(5,5))\n",
    "plt.plot(y_test, y_pred,'o', alpha = 0.5)\n",
    "# plt.ylim(-10,150)\n",
    "# plt.xlim(-10,150)\n",
    "# plt.title('Mud Density', fontsize = 15)\n",
    "plt.xlabel('actual value', fontsize = 15)\n",
    "plt.ylabel('predicted value', fontsize = 15)\n",
    "plt.show()"
   ]
  },
  {
   "cell_type": "code",
   "execution_count": 9,
   "id": "1a377786-a0f7-41b3-931f-30e5b5fc33cd",
   "metadata": {},
   "outputs": [
    {
     "data": {
      "image/png": "[encoded data removed]",
      "text/plain": [
       "<Figure size 360x360 with 1 Axes>"
      ]
     },
     "metadata": {
      "needs_background": "light"
     },
     "output_type": "display_data"
    }
   ],
   "source": [
    "from sklearn.tree import DecisionTreeRegressor\n",
    "\n",
    "\n",
    "X = data.drop(['DateTime','True Vertical Depth','MudWatcher Temperature (Degrees F)', \n",
    "               'MudAid Temperature (Degrees F)',\n",
    "       'ES Meter Temperature (Degrees F)', 'Mud Density',\n",
    "       'Mud Watcher Density (lb/gal)', 'MudWatcher Viscosity',\n",
    "       'ES Meter Voltage', 'MudAid Viscosity @ 600RPM (D.R.)',\n",
    "       'MudAid Viscosity @ 300RPM (D.R.)', 'MudAid Viscosity @ 200RPM (D.R.)',\n",
    "       'MudAid Viscosity @ 100RPM (D.R.)', 'MudAid Viscosity @ 6RPM (D.R.)',\n",
    "       'MudAid Viscosity @ 3RPM (D.R.)', 'PV (API)', 'MudAid PV Value',\n",
    "       'YP (API)', 'MudAid YP Value (100lb/ft2)', 'LSYP (API)',\n",
    "       'MudAid LSYP (100lb/ft2)',], axis = 1)\n",
    "\n",
    "Y = data[['Mud Density']]\n",
    "\n",
    "x_train, x_test, y_train, y_test = train_test_split(X, Y, test_size=0.2)\n",
    "\n",
    "model = DecisionTreeRegressor(max_depth=35)\n",
    "model.fit(x_train, y_train)\n",
    "y_pred = model.predict(x_test)\n",
    "\n",
    "plt.figure(figsize=(5,5))\n",
    "plt.plot(y_test, y_pred,'o', alpha = 0.5)\n",
    "# plt.ylim(-10,150)\n",
    "# plt.xlim(-10,150)\n",
    "plt.title('Mud Density', fontsize = 12)\n",
    "plt.xlabel('actual', fontsize = 12)\n",
    "plt.ylabel('predicted', fontsize = 12)\n",
    "plt.savefig('example_ Mud Density all magnitudes.png', dpi = 500)\n",
    "plt.show()"
   ]
  },
  {
   "cell_type": "markdown",
   "id": "f04ea810-8783-4fa2-a991-95a7c61b960e",
   "metadata": {},
   "source": [
    "# Predicting MudWatcher Temperature (Degrees F)\n"
   ]
  },
  {
   "cell_type": "code",
   "execution_count": 11,
   "id": "613dfb8d-0ea7-4511-94e1-208a4a7d68ab",
   "metadata": {
    "tags": []
   },
   "outputs": [
    {
     "data": {
      "image/png": "[encoded data removed]",
      "text/plain": [
       "<Figure size 360x360 with 1 Axes>"
      ]
     },
     "metadata": {
      "needs_background": "light"
     },
     "output_type": "display_data"
    }
   ],
   "source": [
    "from sklearn.model_selection import train_test_split\n",
    "from sklearn.tree import DecisionTreeRegressor\n",
    "\n",
    "X = data.drop(['DateTime','True Vertical Depth', 'MudWatcher Temperature (Degrees F)', \n",
    "               'MudAid Temperature (Degrees F)', 'ES Meter Temperature (Degrees F)'], axis = 1)\n",
    "\n",
    "Y = data[['MudWatcher Temperature (Degrees F)']]\n",
    "\n",
    "x_train, x_test, y_train, y_test = train_test_split(X, Y, test_size=0.3)\n",
    "\n",
    "model = DecisionTreeRegressor(max_depth=15)\n",
    "model.fit(x_train, y_train)\n",
    "y_pred = model.predict(x_test)\n",
    "\n",
    "plt.figure(figsize=(5,5))\n",
    "plt.plot(y_test, y_pred,'o', alpha = 0.5)\n",
    "plt.ylim(-10,150)\n",
    "plt.xlim(-10,150)\n",
    "plt.title('MudWatcher Temperature (Degrees F)', fontsize = 15)\n",
    "plt.xlabel('actual', fontsize = 15)\n",
    "plt.ylabel('predicted', fontsize = 15)\n",
    "plt.tight_layout()\n",
    "plt.savefig('example_ MudWatcher Temperature all magnitudes.png', dpi = 500)\n",
    "plt.show()"
   ]
  },
  {
   "cell_type": "code",
   "execution_count": 12,
   "id": "57bdf5ca-f8d4-4938-bb49-daf48680255f",
   "metadata": {},
   "outputs": [
    {
     "data": {
      "text/plain": [
       "['MudWatcher Viscosity',\n",
       " 'MudAid Viscosity @ 100RPM (D.R.)',\n",
       " 'Hole Depth',\n",
       " 'Bit Depth',\n",
       " 'Mud Density',\n",
       " 'MudAid Viscosity @ 200RPM (D.R.)',\n",
       " 'MudAid Viscosity @ 6RPM (D.R.)',\n",
       " 'ES Meter Voltage',\n",
       " 'MudAid LSYP (100lb/ft2)',\n",
       " 'MudAid PV Value']"
      ]
     },
     "execution_count": 12,
     "metadata": {},
     "output_type": "execute_result"
    }
   ],
   "source": [
    "table = pd.DataFrame()\n",
    "table['parameter'] = X.columns\n",
    "table['relevance'] = model.feature_importances_\n",
    "t1 = table.sort_values(by = 'relevance', ascending = False).parameter[:10]\n",
    "list(np.array(t1))"
   ]
  },
  {
   "cell_type": "code",
   "execution_count": 60,
   "id": "deca3183-41e4-41de-9aed-78a735d147e6",
   "metadata": {},
   "outputs": [
    {
     "data": {
      "image/png": "[encoded data removed]",
      "text/plain": [
       "<Figure size 360x360 with 1 Axes>"
      ]
     },
     "metadata": {
      "needs_background": "light"
     },
     "output_type": "display_data"
    }
   ],
   "source": [
    "X = data[np.array(t1)]\n",
    "\n",
    "Y = data[['MudWatcher Temperature (Degrees F)']]\n",
    "\n",
    "x_train, x_test, y_train, y_test = train_test_split(X, Y, test_size=0.3)\n",
    "\n",
    "model = DecisionTreeRegressor(max_depth=15)\n",
    "model.fit(x_train, y_train)\n",
    "y_pred = model.predict(x_test)\n",
    "\n",
    "plt.figure(figsize=(5,5))\n",
    "plt.plot(y_test, y_pred,'o')\n",
    "plt.ylim(-10,150)\n",
    "plt.xlim(-10,150)\n",
    "plt.title('MudWatcher Temperature (Degrees F)', fontsize = 12)\n",
    "plt.xlabel('actual', fontsize = 12)\n",
    "plt.ylabel('predicted', fontsize = 12)\n",
    "plt.tight_layout()\n",
    "plt.savefig('example_ MudWatcher Temperature.png', dpi = 500)\n",
    "plt.show()"
   ]
  }
 ],
 "metadata": {
  "kernelspec": {
   "display_name": "Python 3 (ipykernel)",
   "language": "python",
   "name": "python3"
  },
  "language_info": {
   "codemirror_mode": {
    "name": "ipython",
    "version": 3
   },
   "file_extension": ".py",
   "mimetype": "text/x-python",
   "name": "python",
   "nbconvert_exporter": "python",
   "pygments_lexer": "ipython3",
   "version": "3.8.12"
  }
 },
 "nbformat": 4,
 "nbformat_minor": 5
}
